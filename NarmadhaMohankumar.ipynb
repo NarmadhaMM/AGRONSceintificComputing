{
 "cells": [
  {
   "cell_type": "markdown",
   "metadata": {},
   "source": [
    "# Assignment 2\n",
    "## Challenge: Photoperiod\n",
    "## Narmadha Mohankumar\n",
    "## 2/10/2020"
   ]
  },
  {
   "cell_type": "code",
   "execution_count": 12,
   "metadata": {},
   "outputs": [
    {
     "name": "stdin",
     "output_type": "stream",
     "text": [
      "Enter latitude in decimal degrees (North is positive, South is negative): 33.4\n",
      "Enter date in dd-mm-yyyy format: 19-feb-2020\n"
     ]
    },
    {
     "name": "stdout",
     "output_type": "stream",
     "text": [
      "The latitude is 33.4\n",
      "The day of the year is 50\n"
     ]
    }
   ],
   "source": [
    "import math\n",
    "import datetime\n",
    "import numpy as np\n",
    "\n",
    "#User input\n",
    "psi=float(input(\"Enter latitude in decimal degrees (North is positive, South is negative):\"))\n",
    "d=input(\"Enter date in dd-mm-yyyy format:\")\n",
    "d=datetime.datetime.strptime(d,'%d-%b-%Y').strftime('%d-%m-%Y')\n",
    "d=datetime.datetime.strptime(str(d),'%d-%m-%Y')\n",
    "#compute the day of the year based on a user-defined \n",
    "t = d.timetuple().tm_yday\n",
    "print('The latitude is',psi)\n",
    "print('The day of the year is',t)"
   ]
  },
  {
   "cell_type": "code",
   "execution_count": 13,
   "metadata": {},
   "outputs": [
    {
     "name": "stdout",
     "output_type": "stream",
     "text": [
      "The expected photoperiod at  33.4 latitudinal degrees and day of the year 50 is 11.2 hours.\n"
     ]
    }
   ],
   "source": [
    "#Equations\n",
    "#t=201\n",
    "#psi=33.4\n",
    "# Eq. 1\n",
    "light_intensity = 2.206 * 10**-3\n",
    "# Eq. 2\n",
    "B = -4.76 - (1.03 *np.log(light_intensity))\n",
    "# Eq. 3\n",
    "alpha = 90 + B\n",
    "# Eq. 4\n",
    "M = 0.985600*t -3.251\n",
    "# Eq. 5\n",
    "lam = M + 1.916*math.sin(M)+ 0.020*math.sin(2*M) + 282.565\n",
    "# Eq. 6\n",
    "lamr=math.radians(lam)\n",
    "delta = np.arcsin(0.39779*math.sin(lamr))\n",
    "deltar=math.degrees(delta)\n",
    "# Eq.7\n",
    "alphar=math.radians(alpha)\n",
    "psir=math.radians(psi)\n",
    "val1=math.cos(alphar)*(1/math.cos(psir))*(1/math.cos(delta))\n",
    "val2=math.tan(psir)*math.tan(delta)\n",
    "val=val1-val2\n",
    "Day_length = (2/15)*np.arccos(val)\n",
    "Day_length=math.degrees(Day_length)\n",
    "\n",
    "#result\n",
    "print('The expected photoperiod at  %.1f latitudinal degrees and day of the year %d is %.1f hours.' %(psi,t,Day_length))"
   ]
  },
  {
   "cell_type": "code",
   "execution_count": null,
   "metadata": {},
   "outputs": [],
   "source": []
  }
 ],
 "metadata": {
  "kernelspec": {
   "display_name": "Python 3",
   "language": "python",
   "name": "python3"
  },
  "language_info": {
   "codemirror_mode": {
    "name": "ipython",
    "version": 3
   },
   "file_extension": ".py",
   "mimetype": "text/x-python",
   "name": "python",
   "nbconvert_exporter": "python",
   "pygments_lexer": "ipython3",
   "version": "3.7.4"
  }
 },
 "nbformat": 4,
 "nbformat_minor": 4
}
