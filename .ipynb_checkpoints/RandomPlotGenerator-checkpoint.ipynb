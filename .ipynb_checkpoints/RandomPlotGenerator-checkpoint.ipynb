{
 "cells": [
  {
   "cell_type": "markdown",
   "metadata": {},
   "source": [
    "# Random Plot Generator\n",
    "#### Generates random plot labels given the list of treatments and number of replications for both a complete randomized design and a randomized complete block design."
   ]
  },
  {
   "cell_type": "code",
   "execution_count": 1,
   "metadata": {},
   "outputs": [],
   "source": [
    "#Import necessary modules\n",
    "import random as rd"
   ]
  },
  {
   "cell_type": "code",
   "execution_count": 40,
   "metadata": {},
   "outputs": [],
   "source": [
    "#Define unique treatments and number of replications\n",
    "tmt = [\"N0\", \"N25\", \"N50\", \"N100\", \"N200\"] #Treatments of Nitrogen levels in kg of N per hectare\n",
    "reps = 4 #Replications"
   ]
  },
  {
   "cell_type": "code",
   "execution_count": 129,
   "metadata": {},
   "outputs": [
    {
     "name": "stdout",
     "output_type": "stream",
     "text": [
      "\n",
      " Plot labels for complete randomized design\n",
      "\n",
      "Replication 1 : ['N50', 'N200', 'N100', 'N25', 'N0']\n",
      "Replication 2 : ['N0', 'N25', 'N100', 'N0', 'N0']\n",
      "Replication 3 : ['N200', 'N50', 'N25', 'N200', 'N50']\n",
      "Replication 4 : ['N100', 'N100', 'N25', 'N50', 'N200']\n"
     ]
    }
   ],
   "source": [
    "#Code for complete randomized design\n",
    "rd.seed(1218)\n",
    "\n",
    "# Generate the random plot labels\n",
    "crd_list=rd.sample(tmt*reps,len(tmt*reps)) \n",
    "\n",
    "# Itarete through the obtained list of random plot labels and get 4 replications\n",
    "temp=[]\n",
    "j=0\n",
    "print('\\n Plot labels for complete randomized design\\n')\n",
    "for i in crd_list:\n",
    "    temp.append(i)\n",
    "    if (len(temp))%len(tmt)==0:\n",
    "        print('Replication',j+1,':',temp)\n",
    "        j+=1\n",
    "        temp=[]"
   ]
  },
  {
   "cell_type": "code",
   "execution_count": 128,
   "metadata": {},
   "outputs": [
    {
     "name": "stdout",
     "output_type": "stream",
     "text": [
      "\n",
      " Plot labels for randomized complete block design\n",
      "\n",
      "Replication 1 : ['N200', 'N25', 'N0', 'N50', 'N100']\n",
      "Replication 2 : ['N0', 'N200', 'N100', 'N50', 'N25']\n",
      "Replication 3 : ['N100', 'N200', 'N50', 'N0', 'N25']\n",
      "Replication 4 : ['N0', 'N100', 'N50', 'N200', 'N25']\n"
     ]
    }
   ],
   "source": [
    "#Code for Randomized complete block design\n",
    "rd.seed(1218)\n",
    "\n",
    "# Generate the random plot labels\n",
    "rcbd_list=[]\n",
    "print('\\n Plot labels for randomized complete block design\\n')\n",
    "for i in range(reps):\n",
    "    temp=rd.sample(tmt, len(tmt))\n",
    "    print('Replication',i+1,':',temp)\n",
    "    rcbd_list.append(temp)"
   ]
  },
  {
   "cell_type": "code",
   "execution_count": null,
   "metadata": {},
   "outputs": [],
   "source": []
  }
 ],
 "metadata": {
  "kernelspec": {
   "display_name": "Python 3",
   "language": "python",
   "name": "python3"
  },
  "language_info": {
   "codemirror_mode": {
    "name": "ipython",
    "version": 3
   },
   "file_extension": ".py",
   "mimetype": "text/x-python",
   "name": "python",
   "nbconvert_exporter": "python",
   "pygments_lexer": "ipython3",
   "version": "3.7.4"
  }
 },
 "nbformat": 4,
 "nbformat_minor": 4
}
