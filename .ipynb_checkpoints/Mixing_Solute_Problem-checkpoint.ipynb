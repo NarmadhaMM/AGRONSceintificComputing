{
 "cells": [
  {
   "cell_type": "markdown",
   "metadata": {},
   "source": [
    "# Mixing Solute Problem"
   ]
  },
  {
   "cell_type": "code",
   "execution_count": null,
   "metadata": {},
   "outputs": [],
   "source": [
    "import math"
   ]
  },
  {
   "cell_type": "code",
   "execution_count": 15,
   "metadata": {},
   "outputs": [
    {
     "name": "stdout",
     "output_type": "stream",
     "text": [
      "The time the tank will overflow is 300 hours\n"
     ]
    }
   ],
   "source": [
    "#The time it takes to overflow the tank\n",
    "\n",
    "#Initial conditions\n",
    "total=1500 # Total capacity of the tank\n",
    "current=600 # Current level of the tank\n",
    "inflow=9 # 9 gallons per hour\n",
    "outflow=6 # 6 gallons per hour\n",
    "t=0\n",
    "salt=5 # salt content in the tank\n",
    "\n",
    "while current<total:\n",
    "    current=current-outflow+inflow\n",
    "    t+=1\n",
    "print('The time the tank will overflow is',t, 'hours')    "
   ]
  },
  {
   "cell_type": "code",
   "execution_count": 26,
   "metadata": {},
   "outputs": [
    {
     "name": "stdout",
     "output_type": "stream",
     "text": [
      "The salt content when the tank overflows is 280.66763200116026\n"
     ]
    }
   ],
   "source": [
    "#The salt content when the tank overflows\n",
    "\n",
    "#Initial conditions\n",
    "total=1500 # Total capacity of the tank\n",
    "current=600 # Current level of the tank\n",
    "inflow=9 # 9 gallons per hour\n",
    "outflow=6 # 6 gallons per hour\n",
    "t=0\n",
    "salt=5 # salt content in the tank\n",
    "\n",
    "while current<total:\n",
    "    current=current-outflow+inflow\n",
    "    saltin=(inflow*(1/5)*(1+math.cos(t)))\n",
    "    saltout=salt/current*outflow\n",
    "    salt=salt+saltin-saltout\n",
    "    t+=1\n",
    "print('The salt content when the tank overflows is',salt)    "
   ]
  },
  {
   "cell_type": "code",
   "execution_count": null,
   "metadata": {},
   "outputs": [],
   "source": []
  }
 ],
 "metadata": {
  "kernelspec": {
   "display_name": "Python 3",
   "language": "python",
   "name": "python3"
  },
  "language_info": {
   "codemirror_mode": {
    "name": "ipython",
    "version": 3
   },
   "file_extension": ".py",
   "mimetype": "text/x-python",
   "name": "python",
   "nbconvert_exporter": "python",
   "pygments_lexer": "ipython3",
   "version": "3.7.4"
  }
 },
 "nbformat": 4,
 "nbformat_minor": 4
}
