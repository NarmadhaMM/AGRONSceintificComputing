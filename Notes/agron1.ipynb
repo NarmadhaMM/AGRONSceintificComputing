{
 "cells": [
  {
   "cell_type": "markdown",
   "metadata": {},
   "source": [
    "# AGRON Scientific Computing 2/3/2020"
   ]
  },
  {
   "cell_type": "markdown",
   "metadata": {},
   "source": [
    "## Math"
   ]
  },
  {
   "cell_type": "code",
   "execution_count": 69,
   "metadata": {},
   "outputs": [],
   "source": [
    "import math"
   ]
  },
  {
   "cell_type": "code",
   "execution_count": 70,
   "metadata": {},
   "outputs": [],
   "source": [
    "value=4"
   ]
  },
  {
   "cell_type": "code",
   "execution_count": 71,
   "metadata": {},
   "outputs": [
    {
     "name": "stdout",
     "output_type": "stream",
     "text": [
      "3.141592653589793\n"
     ]
    }
   ],
   "source": [
    "print(math.pi)"
   ]
  },
  {
   "cell_type": "code",
   "execution_count": 72,
   "metadata": {},
   "outputs": [
    {
     "data": {
      "text/plain": [
       "0.8939966636005579"
      ]
     },
     "execution_count": 72,
     "metadata": {},
     "output_type": "execute_result"
    }
   ],
   "source": [
    "a=math.sin(90)\n",
    "a"
   ]
  },
  {
   "cell_type": "code",
   "execution_count": 92,
   "metadata": {},
   "outputs": [
    {
     "name": "stdin",
     "output_type": "stream",
     "text": [
      "Input diameter: 2.5\n"
     ]
    },
    {
     "name": "stdout",
     "output_type": "stream",
     "text": [
      "The area of a circle with diameter 2.5 is 4.9\n",
      "The area of a circle with diameter 2.50 is 4.9\n"
     ]
    }
   ],
   "source": [
    "d=2.5\n",
    "d=float(input('Input diameter:'))\n",
    "area=round(math.pi*(d/2)**2,1)\n",
    "print('The area of a circle with diameter', d,'is',area)\n",
    "print('The area of a circle with diameter %.2f is %.1f'%(d,area))"
   ]
  },
  {
   "cell_type": "markdown",
   "metadata": {},
   "source": [
    "## Date Time"
   ]
  },
  {
   "cell_type": "code",
   "execution_count": 74,
   "metadata": {},
   "outputs": [],
   "source": [
    "import datetime\n",
    "#from datetime "
   ]
  },
  {
   "cell_type": "code",
   "execution_count": 75,
   "metadata": {},
   "outputs": [
    {
     "name": "stdout",
     "output_type": "stream",
     "text": [
      "2020-02-03 15:39:33.697812\n",
      "<class 'datetime.datetime'>\n"
     ]
    }
   ],
   "source": [
    "current_date=datetime.datetime.now()\n",
    "print(current_date)\n",
    "print(type(current_date))"
   ]
  },
  {
   "cell_type": "code",
   "execution_count": 76,
   "metadata": {},
   "outputs": [
    {
     "name": "stdout",
     "output_type": "stream",
     "text": [
      "2020-02-03\n",
      "15:39:33.697812\n",
      "3\n",
      "Feb\n"
     ]
    }
   ],
   "source": [
    "print(current_date.date())\n",
    "print(current_date.time())\n",
    "print(current_date.day)\n",
    "print(current_date.strftime('%b'))\n",
    "\n",
    "\n",
    "#date and time are methods and dat is an attribute. object.method,object.attribute\n"
   ]
  },
  {
   "cell_type": "code",
   "execution_count": 77,
   "metadata": {},
   "outputs": [
    {
     "name": "stdout",
     "output_type": "stream",
     "text": [
      "2020-02-03 14:30:00\n",
      "<class 'str'>\n",
      "2020-03-02 14:30:00\n",
      "<class 'datetime.datetime'>\n"
     ]
    },
    {
     "data": {
      "text/plain": [
       "\u001b[1;31mDocstring:\u001b[0m string, format -> new datetime parsed from a string (like time.strptime()).\n",
       "\u001b[1;31mType:\u001b[0m      builtin_function_or_method\n"
      ]
     },
     "metadata": {},
     "output_type": "display_data"
    }
   ],
   "source": [
    "# String to datetime object\n",
    "\n",
    "date_str=\"2020-02-03 14:30:00\"\n",
    "print(date_str)\n",
    "print(type(date_str))\n",
    "\n",
    "datetime.datetime.strptime?\n",
    "date_str=datetime.datetime.strptime(date_str,\"%Y-%d-%m %H:%M:%S\")\n",
    "print(date_str)\n",
    "print(type(date_str))"
   ]
  },
  {
   "cell_type": "code",
   "execution_count": 78,
   "metadata": {},
   "outputs": [
    {
     "name": "stdout",
     "output_type": "stream",
     "text": [
      "2020-02-03 15:30:15\n"
     ]
    }
   ],
   "source": [
    "#Create date\n",
    "\n",
    "dt=datetime.datetime(2020,2,3,15,30,15)\n",
    "print(dt)\n"
   ]
  },
  {
   "cell_type": "code",
   "execution_count": 83,
   "metadata": {},
   "outputs": [
    {
     "name": "stdout",
     "output_type": "stream",
     "text": [
      "33 days, 15:39:33.769597\n",
      "<class 'datetime.datetime'>\n",
      "<class 'datetime.timedelta'>\n"
     ]
    }
   ],
   "source": [
    "#Arithmatic Operation\n",
    "\n",
    "start=datetime.datetime(2020,1,1)\n",
    "end=datetime.datetime.now()\n",
    "diff=end-start\n",
    "print(diff)\n",
    "print(type(start)) #type is date time\n",
    "print(type(diff)) #type is timedelta"
   ]
  },
  {
   "cell_type": "code",
   "execution_count": 91,
   "metadata": {},
   "outputs": [
    {
     "name": "stdout",
     "output_type": "stream",
     "text": [
      "2907573.769597\n"
     ]
    }
   ],
   "source": [
    "# Working with seconds\n",
    "\n",
    "print(diff.total_seconds())"
   ]
  },
  {
   "cell_type": "markdown",
   "metadata": {},
   "source": [
    "# User Inputs"
   ]
  },
  {
   "cell_type": "code",
   "execution_count": 95,
   "metadata": {},
   "outputs": [
    {
     "name": "stdin",
     "output_type": "stream",
     "text": [
      "Enter your name: meenu\n"
     ]
    },
    {
     "name": "stdout",
     "output_type": "stream",
     "text": [
      "meenu\n"
     ]
    }
   ],
   "source": [
    "name=input(\"Enter your name:\")\n",
    "print(name)"
   ]
  },
  {
   "cell_type": "code",
   "execution_count": 102,
   "metadata": {},
   "outputs": [
    {
     "name": "stdin",
     "output_type": "stream",
     "text": [
      "Enter mass of dry soil(g): 20\n",
      "Enter blanck reading(g/l): 30\n",
      "Enter first reading 20\n",
      "Enter second reading 30\n"
     ]
    },
    {
     "name": "stdout",
     "output_type": "stream",
     "text": [
      "sand:0%. silt:-50%, clay:150%\n"
     ]
    }
   ],
   "source": [
    "#Soil example\n",
    "\n",
    "mass=float(input(\"Enter mass of dry soil(g):\")) #read mass\n",
    "blanck=float(input(\"Enter blanck reading(g/l):\"))#read blanck\n",
    "\n",
    "first=float(input(\"Enter first reading\"))\n",
    "second=float(input(\"Enter second reading\"))\n",
    "\n",
    "sand_content=round((mass-first)/mass)\n",
    "clay_content=round((second/mass*100))\n",
    "silt_content=100-sand_content-clay_content\n",
    "print('sand:{sand}%. silt:{silt}%, clay:{clay}%'\n",
    "      .format(sand=sand_content,\n",
    "              silt=silt_content,\n",
    "              clay=clay_content))"
   ]
  },
  {
   "cell_type": "code",
   "execution_count": null,
   "metadata": {},
   "outputs": [],
   "source": []
  }
 ],
 "metadata": {
  "kernelspec": {
   "display_name": "Python 3",
   "language": "python",
   "name": "python3"
  },
  "language_info": {
   "codemirror_mode": {
    "name": "ipython",
    "version": 3
   },
   "file_extension": ".py",
   "mimetype": "text/x-python",
   "name": "python",
   "nbconvert_exporter": "python",
   "pygments_lexer": "ipython3",
   "version": "3.7.4"
  }
 },
 "nbformat": 4,
 "nbformat_minor": 4
}
