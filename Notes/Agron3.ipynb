{
 "cells": [
  {
   "cell_type": "markdown",
   "metadata": {},
   "source": [
    "# 2/10/2020\n",
    "# Data Structures\n",
    "## 1. List"
   ]
  },
  {
   "cell_type": "code",
   "execution_count": 2,
   "metadata": {},
   "outputs": [
    {
     "name": "stdout",
     "output_type": "stream",
     "text": [
      "['Molisols', 'Alfisols']\n",
      "['Molisols', 'Alfisols', 'Andisols']\n",
      "['Molisols', 'Alfisols', 'Andisols', ['Spondosol', 'Axisol']]\n"
     ]
    }
   ],
   "source": [
    "soil=['Molisols','Alfisols']\n",
    "print(soil)\n",
    "soil.append('Andisols')\n",
    "print(soil)\n",
    "\n",
    "#List inside list\n",
    "extra=['Spondosol','Axisol']\n",
    "soil.append(extra)\n",
    "print(soil)"
   ]
  },
  {
   "cell_type": "code",
   "execution_count": 3,
   "metadata": {},
   "outputs": [
    {
     "name": "stdout",
     "output_type": "stream",
     "text": [
      "['Molisols', 'Alfisols', 'Andisols', ['Spondosol', 'Axisol'], 'Spondosol', 'Axisol']\n"
     ]
    }
   ],
   "source": [
    "#Extend instead of using list inside list\n",
    "soil.extend(extra)\n",
    "print(soil)"
   ]
  },
  {
   "cell_type": "code",
   "execution_count": 5,
   "metadata": {},
   "outputs": [
    {
     "name": "stdout",
     "output_type": "stream",
     "text": [
      "['Molisols', ['Spondosol', 'Axisol'], 'Spondosol', 'Axisol']\n"
     ]
    }
   ],
   "source": [
    "#Delete information form a list\n",
    "\n",
    "soil.pop(1) #Delete second element\n",
    "print(soil)"
   ]
  },
  {
   "cell_type": "markdown",
   "metadata": {},
   "source": [
    "## 2. Tuple"
   ]
  },
  {
   "cell_type": "code",
   "execution_count": 9,
   "metadata": {},
   "outputs": [
    {
     "name": "stdout",
     "output_type": "stream",
     "text": [
      "1\n"
     ]
    }
   ],
   "source": [
    "#We can redefine a tuple, but cannot change it's elements.\n",
    "\n",
    "mytuple=(1,2,3)\n",
    "print(mytuple[0])\n",
    "\n",
    "#mytuple[0]=4 # This doesnt work since we cant change its elements"
   ]
  },
  {
   "cell_type": "markdown",
   "metadata": {},
   "source": [
    "## 3. Disctionary"
   ]
  },
  {
   "cell_type": "code",
   "execution_count": 17,
   "metadata": {},
   "outputs": [
    {
     "name": "stdout",
     "output_type": "stream",
     "text": [
      "{'country': ['Ghana', 'USA', 'Iran'], 'airtemp': [25, 39, -2]}\n",
      "['Ghana', 'USA', 'Iran']\n",
      "USA\n"
     ]
    }
   ],
   "source": [
    "D={'country':['Ghana','USA','Iran'],\n",
    "  'airtemp':[25,39,-2]}\n",
    "print(D)\n",
    "print(D['country'])\n",
    "print(D['country'][1])"
   ]
  },
  {
   "cell_type": "markdown",
   "metadata": {},
   "source": [
    "## 4. Strings"
   ]
  },
  {
   "cell_type": "code",
   "execution_count": 21,
   "metadata": {},
   "outputs": [
    {
     "data": {
      "text/plain": [
       "'silty clay loam'"
      ]
     },
     "execution_count": 21,
     "metadata": {},
     "output_type": "execute_result"
    }
   ],
   "source": [
    "mystring='this is a string'\n",
    "mystring=\"this is a string\"\n",
    "mystrinf='''This\n",
    "is a multi\n",
    "string'''\n",
    "\n",
    "csvstring='String, seperated, by, commas'\n",
    "csvstring.split(',') # type . and TAB for string functions\n",
    "\n",
    "name='images from field'\n",
    "name.replace(' ','_')\n",
    "\n",
    "soil=['silty','clay','loam']\n",
    "' '.join(soil)"
   ]
  },
  {
   "cell_type": "code",
   "execution_count": 24,
   "metadata": {},
   "outputs": [
    {
     "name": "stdout",
     "output_type": "stream",
     "text": [
      "i\n",
      "['i', 'o']\n",
      "['o', 'n']\n",
      "['o', 'n']\n"
     ]
    }
   ],
   "source": [
    "#Indexing and slicing\n",
    "p=['p','i','o','n']\n",
    "print(p[1])\n",
    "print(p[1:3])\n",
    "print(p[2:])\n",
    "print(p[2:len(p)])"
   ]
  },
  {
   "cell_type": "code",
   "execution_count": 36,
   "metadata": {},
   "outputs": [
    {
     "name": "stdout",
     "output_type": "stream",
     "text": [
      "[(0, 'mol'), (1, 'hap'), (2, 'alf')]\n",
      "0\n",
      "mol\n",
      "1\n",
      "hap\n",
      "2\n",
      "alf\n"
     ]
    }
   ],
   "source": [
    "#For loop\n",
    "\n",
    "soils=['mol','hap','alf']\n",
    "#Enumerate give an index for each element\n",
    "print(list(enumerate(soils)))\n",
    "\n",
    "for count,soil in enumerate (soils):\n",
    "    print(count)\n",
    "    print(soil)\n"
   ]
  },
  {
   "cell_type": "code",
   "execution_count": 30,
   "metadata": {},
   "outputs": [
    {
     "name": "stdout",
     "output_type": "stream",
     "text": [
      "mol\n",
      "hap\n",
      "alf\n"
     ]
    }
   ],
   "source": [
    "for item in soils:\n",
    "    print(item)"
   ]
  },
  {
   "cell_type": "code",
   "execution_count": 34,
   "metadata": {},
   "outputs": [
    {
     "name": "stdout",
     "output_type": "stream",
     "text": [
      "['1a', '1b', '1c', '2a', '2b', '2c', '3a', '3b', '3c']\n"
     ]
    }
   ],
   "source": [
    "plots=range(1,4)\n",
    "trt=['a','b','c']\n",
    "myplot=[]\n",
    "\n",
    "for i in plots:\n",
    "    for j in trt:\n",
    "        myplot.append(str(i)+j)\n",
    "print(myplot)"
   ]
  },
  {
   "cell_type": "code",
   "execution_count": 39,
   "metadata": {},
   "outputs": [
    {
     "name": "stdout",
     "output_type": "stream",
     "text": [
      "0\n",
      "1\n",
      "2\n",
      "3\n",
      "4\n"
     ]
    }
   ],
   "source": [
    "#Break a for loop\n",
    "\n",
    "for i in range(5):\n",
    "    print(i)\n",
    "    if i==5:\n",
    "        break\n",
    "\n"
   ]
  },
  {
   "cell_type": "code",
   "execution_count": null,
   "metadata": {},
   "outputs": [],
   "source": [
    "crop='corn'\n",
    "\n",
    "if crop=='corn':\n",
    "    Tbase=8\n",
    "elif crop=='wheat':\n",
    "    Tbase=10\n",
    "else:\n",
    "    print('invalid')\n",
    "    \n",
    "print(Tbase)"
   ]
  }
 ],
 "metadata": {
  "kernelspec": {
   "display_name": "Python 3",
   "language": "python",
   "name": "python3"
  },
  "language_info": {
   "codemirror_mode": {
    "name": "ipython",
    "version": 3
   },
   "file_extension": ".py",
   "mimetype": "text/x-python",
   "name": "python",
   "nbconvert_exporter": "python",
   "pygments_lexer": "ipython3",
   "version": "3.7.4"
  }
 },
 "nbformat": 4,
 "nbformat_minor": 4
}
