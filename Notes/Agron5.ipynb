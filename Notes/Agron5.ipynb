{
 "cells": [
  {
   "cell_type": "markdown",
   "metadata": {},
   "source": [
    "# While Loop"
   ]
  },
  {
   "cell_type": "markdown",
   "metadata": {},
   "source": [
    "### import random\n",
    "\n",
    "maxval=10\n",
    "minval=1\n",
    "compinput=random.randint(minval,maxval)\n",
    "userinput=''\n",
    "\n",
    "while compinput!=userinput:\n",
    "    userinput=int(input('Enter a number between 1 and 10'))\n",
    "    if compinput!=userinput:\n",
    "        print(\"Try again\")\n",
    "    else:\n",
    "        print(\"You are right\")\n"
   ]
  },
  {
   "cell_type": "markdown",
   "metadata": {},
   "source": [
    "# Functions"
   ]
  },
  {
   "cell_type": "code",
   "execution_count": 19,
   "metadata": {},
   "outputs": [
    {
     "data": {
      "text/plain": [
       "\u001b[1;31mSignature:\u001b[0m \u001b[0mhypotenuse\u001b[0m\u001b[1;33m(\u001b[0m\u001b[0ma\u001b[0m\u001b[1;33m,\u001b[0m \u001b[0mb\u001b[0m\u001b[1;33m)\u001b[0m\u001b[1;33m\u001b[0m\u001b[1;33m\u001b[0m\u001b[0m\n",
       "\u001b[1;31mDocstring:\u001b[0m Function that computes the longest side of a right sided triangle. Input must be in cm.\n",
       "\u001b[1;31mFile:\u001b[0m      c:\\users\\meenu\\<ipython-input-19-7182df750c01>\n",
       "\u001b[1;31mType:\u001b[0m      function\n"
      ]
     },
     "metadata": {},
     "output_type": "display_data"
    }
   ],
   "source": [
    "#Defining the function\n",
    "\n",
    "def hypotenuse(a,b):  \n",
    "    \"\"\"Function that computes the longest side of a right sided triangle. Input must be in cm.\"\"\"\n",
    "    h=(a**2+b**2)**0.5\n",
    "hypotenuse?"
   ]
  },
  {
   "cell_type": "code",
   "execution_count": null,
   "metadata": {},
   "outputs": [],
   "source": []
  }
 ],
 "metadata": {
  "kernelspec": {
   "display_name": "Python 3",
   "language": "python",
   "name": "python3"
  },
  "language_info": {
   "codemirror_mode": {
    "name": "ipython",
    "version": 3
   },
   "file_extension": ".py",
   "mimetype": "text/x-python",
   "name": "python",
   "nbconvert_exporter": "python",
   "pygments_lexer": "ipython3",
   "version": "3.7.4"
  }
 },
 "nbformat": 4,
 "nbformat_minor": 4
}
