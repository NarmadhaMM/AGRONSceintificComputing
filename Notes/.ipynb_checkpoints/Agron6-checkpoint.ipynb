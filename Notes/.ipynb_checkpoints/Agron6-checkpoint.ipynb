{
 "cells": [
  {
   "cell_type": "markdown",
   "metadata": {},
   "source": [
    "# Functions"
   ]
  },
  {
   "cell_type": "code",
   "execution_count": 52,
   "metadata": {},
   "outputs": [
    {
     "name": "stdout",
     "output_type": "stream",
     "text": [
      "5050\n"
     ]
    },
    {
     "data": {
      "text/plain": [
       "int"
      ]
     },
     "execution_count": 52,
     "metadata": {},
     "output_type": "execute_result"
    }
   ],
   "source": [
    "#Function that computes the sum of 1 to 100\n",
    "def hundredsum():\n",
    "    \"\"\"Function that computes the sum of 1 to 100\"\"\"\n",
    "    summ=0\n",
    "    for i in range(1,101):\n",
    "        summ=summ+i\n",
    "    return summ\n",
    "\n",
    "t=hundredsum()\n",
    "print(t)\n",
    "type(t)"
   ]
  },
  {
   "cell_type": "code",
   "execution_count": 55,
   "metadata": {},
   "outputs": [
    {
     "name": "stdout",
     "output_type": "stream",
     "text": [
      "(16.755160819145562, 12.566370614359172)\n",
      "Volume of the cone is 16.755160819145562\n",
      "Area of the cone is 12.566370614359172\n"
     ]
    }
   ],
   "source": [
    "# Function that calculates the volume and area of a cone\n",
    "import math\n",
    "def cone(r,h):\n",
    "    \"\"\"Function that calculates the volume and area of a cone given radius and height\"\"\"\n",
    "    vol=math.pi*(r**2)*h/3\n",
    "    area=math.pi*(r**2)\n",
    "    return vol,area\n",
    "\n",
    "C=cone(2,4)\n",
    "print(C)\n",
    "type(C)\n",
    "print('Volume of the cone is',C[0])\n",
    "print('Area of the cone is',C[1])"
   ]
  },
  {
   "cell_type": "markdown",
   "metadata": {},
   "source": [
    "# Lambda Functions"
   ]
  },
  {
   "cell_type": "code",
   "execution_count": 63,
   "metadata": {},
   "outputs": [
    {
     "data": {
      "text/plain": [
       "106.66666666666667"
      ]
     },
     "execution_count": 63,
     "metadata": {},
     "output_type": "execute_result"
    }
   ],
   "source": [
    "Fun1= lambda F: 5/9 *(F-20)\n",
    "Fun1(212)"
   ]
  },
  {
   "cell_type": "code",
   "execution_count": 64,
   "metadata": {},
   "outputs": [
    {
     "data": {
      "text/plain": [
       "9000.0"
      ]
     },
     "execution_count": 64,
     "metadata": {},
     "output_type": "execute_result"
    }
   ],
   "source": [
    "Fun2= lambda F1,F2: 5/9*(F1-20)*(F2-10)\n",
    "Fun2(200,100)"
   ]
  },
  {
   "cell_type": "code",
   "execution_count": null,
   "metadata": {},
   "outputs": [],
   "source": []
  }
 ],
 "metadata": {
  "kernelspec": {
   "display_name": "Python 3",
   "language": "python",
   "name": "python3"
  },
  "language_info": {
   "codemirror_mode": {
    "name": "ipython",
    "version": 3
   },
   "file_extension": ".py",
   "mimetype": "text/x-python",
   "name": "python",
   "nbconvert_exporter": "python",
   "pygments_lexer": "ipython3",
   "version": "3.7.4"
  }
 },
 "nbformat": 4,
 "nbformat_minor": 4
}
