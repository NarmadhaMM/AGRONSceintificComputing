{
 "cells": [
  {
   "cell_type": "code",
   "execution_count": null,
   "metadata": {},
   "outputs": [],
   "source": [
    "#While Loop"
   ]
  },
  {
   "cell_type": "code",
   "execution_count": null,
   "metadata": {},
   "outputs": [],
   "source": [
    "maxval=1\n",
    "minval=10\n",
    "cominput=random.randint(minval,maxval)\n",
    "userinput=\"\"\n",
    "\n",
    "while cominput!=userinput:\n",
    "    userinput=int(input('Enter a number between 1 and 10'))\n",
    "    if cominput!=userinput::\n",
    "            print(\"Try again\")\n",
    "    else\n",
    "            print(\"You are right\")\n"
   ]
  }
 ],
 "metadata": {
  "kernelspec": {
   "display_name": "Python 3",
   "language": "python",
   "name": "python3"
  },
  "language_info": {
   "codemirror_mode": {
    "name": "ipython",
    "version": 3
   },
   "file_extension": ".py",
   "mimetype": "text/x-python",
   "name": "python",
   "nbconvert_exporter": "python",
   "pygments_lexer": "ipython3",
   "version": "3.7.4"
  }
 },
 "nbformat": 4,
 "nbformat_minor": 4
}
