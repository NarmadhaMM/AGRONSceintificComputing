{
 "cells": [
  {
   "cell_type": "markdown",
   "metadata": {},
   "source": [
    "# Random Plot Generator\n",
    "#### Generates random plot labels given the list of treatments and number of replications for both a complete randomized design and a randomized complete block design."
   ]
  },
  {
   "cell_type": "code",
   "execution_count": 1,
   "metadata": {},
   "outputs": [],
   "source": [
    "#Import necessary modules\n",
    "import random as rd"
   ]
  },
  {
   "cell_type": "code",
   "execution_count": 40,
   "metadata": {},
   "outputs": [],
   "source": [
    "#Define unique treatments and number of replications\n",
    "tmt = [\"N0\", \"N25\", \"N50\", \"N100\", \"N200\"] # N in kg/ha \n",
    "reps = 4"
   ]
  },
  {
   "cell_type": "code",
   "execution_count": 60,
   "metadata": {},
   "outputs": [
    {
     "name": "stdout",
     "output_type": "stream",
     "text": [
      "Replication 1 : ['N50', 'N0', 'N0', 'N0', 'N100']\n",
      "Replication 2 : ['N0', 'N25', 'N25', 'N200', 'N0']\n",
      "Replication 3 : ['N50', 'N50', 'N200', 'N0', 'N50']\n",
      "Replication 4 : ['N0', 'N100', 'N100', 'N50', 'N50']\n"
     ]
    }
   ],
   "source": [
    "#Code for complete randomized design\n",
    "rd.seed(1218)\n",
    "crd_list=[]\n",
    "for i in range(4):\n",
    "    temp=rd.choices(tmt, k=len(tmt))\n",
    "    print('Replication',i+1,':',temp)\n",
    "    crd_list.append(temp)"
   ]
  },
  {
   "cell_type": "code",
   "execution_count": 42,
   "metadata": {},
   "outputs": [
    {
     "name": "stdout",
     "output_type": "stream",
     "text": [
      "Replication 1 : ['N200', 'N25', 'N0', 'N50', 'N100']\n",
      "Replication 2 : ['N0', 'N200', 'N100', 'N50', 'N25']\n",
      "Replication 3 : ['N100', 'N200', 'N50', 'N0', 'N25']\n",
      "Replication 4 : ['N0', 'N100', 'N50', 'N200', 'N25']\n"
     ]
    }
   ],
   "source": [
    "#Code for Randomized complete block design\n",
    "rd.seed(1218)\n",
    "rcbd_list=[]\n",
    "for i in range(4):\n",
    "    temp=rd.sample(tmt, len(tmt))\n",
    "    print('Replication',i+1,':',temp)\n",
    "    rcbd_list.append(temp)"
   ]
  }
 ],
 "metadata": {
  "kernelspec": {
   "display_name": "Python 3",
   "language": "python",
   "name": "python3"
  },
  "language_info": {
   "codemirror_mode": {
    "name": "ipython",
    "version": 3
   },
   "file_extension": ".py",
   "mimetype": "text/x-python",
   "name": "python",
   "nbconvert_exporter": "python",
   "pygments_lexer": "ipython3",
   "version": "3.7.4"
  }
 },
 "nbformat": 4,
 "nbformat_minor": 4
}
