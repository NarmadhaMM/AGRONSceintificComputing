{
 "cells": [
  {
   "cell_type": "markdown",
   "metadata": {},
   "source": [
    "# Find the DNA matching strand"
   ]
  },
  {
   "cell_type": "code",
   "execution_count": 71,
   "metadata": {},
   "outputs": [],
   "source": [
    "# Import modules\n",
    "import glob "
   ]
  },
  {
   "cell_type": "code",
   "execution_count": 72,
   "metadata": {},
   "outputs": [],
   "source": [
    "# Navigate to directory and load file, dna_sequence.txt\n",
    "dna = open('Documents\\\\AGRON\\\\dna_sequence.txt').read().split('\\n')\n",
    "\n",
    "# Trim the headers using Python. Slice the list from the 8th row to the end of the file.\n",
    "dna=dna[8:]\n",
    "\n",
    "# Merge all the list elements in dna, into a single, long string.\n",
    "dna=''.join(dna)"
   ]
  },
  {
   "cell_type": "code",
   "execution_count": 1,
   "metadata": {},
   "outputs": [],
   "source": [
    "# Declare the dnamatching function that computes the matching DNA strand\n",
    "def dnamatching(l):\n",
    "    \"\"\"The function computes the matching DNA strand given the DNA strand as an input.\n",
    "    The input variable should be a long string which denotes the DNA.\n",
    "    Author's name: Narmadha Mohankumar.\n",
    "    Date of creation: 2/23/2020.\"\"\"\n",
    "    matching_dna=''\n",
    "    for i in dna:\n",
    "        if i == 'A':\n",
    "            matching_dna+='T'\n",
    "        elif i == 'C':\n",
    "            matching_dna+='G'\n",
    "        elif i=='T':\n",
    "            matching_dna+='A'\n",
    "        elif i=='G':\n",
    "            matching_dna+='C'\n",
    "        else:\n",
    "            print('Something went wrong, unknown base found:',i)\n",
    "            return\n",
    "    return matching_dna"
   ]
  },
  {
   "cell_type": "code",
   "execution_count": 3,
   "metadata": {},
   "outputs": [
    {
     "name": "stdout",
     "output_type": "stream",
     "text": [
      "Something went wrong, unknown base found: S\n"
     ]
    }
   ],
   "source": [
    "# Call the dnamatching function and store function output into a variable. \n",
    "output=dnamatching(dna)"
   ]
  },
  {
   "cell_type": "code",
   "execution_count": null,
   "metadata": {},
   "outputs": [],
   "source": []
  }
 ],
 "metadata": {
  "kernelspec": {
   "display_name": "Python 3",
   "language": "python",
   "name": "python3"
  },
  "language_info": {
   "codemirror_mode": {
    "name": "ipython",
    "version": 3
   },
   "file_extension": ".py",
   "mimetype": "text/x-python",
   "name": "python",
   "nbconvert_exporter": "python",
   "pygments_lexer": "ipython3",
   "version": "3.7.4"
  }
 },
 "nbformat": 4,
 "nbformat_minor": 4
}
